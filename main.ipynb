{
 "cells": [
  {
   "cell_type": "code",
   "execution_count": 1,
   "id": "initial_id",
   "metadata": {
    "collapsed": true,
    "ExecuteTime": {
     "end_time": "2024-04-22T13:32:12.080691Z",
     "start_time": "2024-04-22T13:32:12.041423Z"
    }
   },
   "outputs": [],
   "source": [
    "import exifread\n",
    "import requests\n",
    "import os\n",
    "import schedule\n",
    "import time"
   ]
  },
  {
   "cell_type": "code",
   "outputs": [],
   "source": [
    "def convert_lati_long(info) -> float:\n",
    "    use_info = [float(value) for value in info.values]\n",
    "    degrees, minutes, seconds = use_info\n",
    "    decimal_degrees = degrees + (minutes / 60) + (seconds / 3600)\n",
    "    return decimal_degrees\n",
    "\n",
    "def extract_exif(filename: str) -> dict:\n",
    "    \"\"\"\n",
    "    提取一张图片的exif信息\n",
    "    \"\"\"\n",
    "    try:\n",
    "        with open(filename, \"rb\") as f:\n",
    "            tags = exifread.process_file(f)\n",
    "\n",
    "            ## 将经纬度转换为高德地图的经纬度\n",
    "            latitude = tags.get(\"GPS GPSLatitude\")\n",
    "            longitude = tags.get(\"GPS GPSLongitude\")\n",
    "\n",
    "            try:\n",
    "                latitude = convert_lati_long(latitude)\n",
    "                longitude = convert_lati_long(longitude)\n",
    "            except:\n",
    "                latitude = None\n",
    "                longitude = None\n",
    "\n",
    "            exif_info = {\n",
    "                \"description\": str(tags.get(\"Image ImageDescription\")),\n",
    "                \"camera_make\": str(tags.get(\"Image Make\")),\n",
    "                \"camera_model\": str(tags.get(\"Image Model\")),\n",
    "                \"len_make\": str(tags.get(\"EXIF LensMake\")),\n",
    "                \"len_model\": str(tags.get(\"EXIF LensModel\")),\n",
    "                \"f_number\": str(\n",
    "                    float(tags.get(\"EXIF FNumber\").values[0].num)\n",
    "                    / float(tags.get(\"EXIF FNumber\").values[0].den)\n",
    "                ),\n",
    "                \"exposure_time\": str(tags.get(\"EXIF ExposureTime\")),\n",
    "                \"latitude\": latitude,\n",
    "                \"longitude\": longitude,\n",
    "                \"datetime\": str(tags.get(\"EXIF DateTimeOriginal\")),\n",
    "            }\n",
    "    except:\n",
    "        exif_info = {}\n",
    "    return exif_info"
   ],
   "metadata": {
    "collapsed": false,
    "ExecuteTime": {
     "end_time": "2024-04-22T13:32:12.750727Z",
     "start_time": "2024-04-22T13:32:12.744506Z"
    }
   },
   "id": "36c18e01b0baeb68",
   "execution_count": 2
  },
  {
   "cell_type": "code",
   "outputs": [
    {
     "data": {
      "text/plain": "{'description': '高考后在成都的旅游',\n 'camera_make': 'OPPO',\n 'camera_model': 'OPPO R9s',\n 'len_make': 'None',\n 'len_model': 'None',\n 'f_number': '1.7',\n 'exposure_time': '1/33',\n 'latitude': 30.656002777777775,\n 'longitude': 104.082275,\n 'datetime': '2019:06:15 19:31:27'}"
     },
     "execution_count": 3,
     "metadata": {},
     "output_type": "execute_result"
    }
   ],
   "source": [
    "extract_exif(\"images/1.jpg\")"
   ],
   "metadata": {
    "collapsed": false,
    "ExecuteTime": {
     "end_time": "2024-04-22T13:32:13.309310Z",
     "start_time": "2024-04-22T13:32:13.304436Z"
    }
   },
   "id": "94717454f4c93fc3",
   "execution_count": 3
  }
 ],
 "metadata": {
  "kernelspec": {
   "display_name": "Python 3",
   "language": "python",
   "name": "python3"
  },
  "language_info": {
   "codemirror_mode": {
    "name": "ipython",
    "version": 2
   },
   "file_extension": ".py",
   "mimetype": "text/x-python",
   "name": "python",
   "nbconvert_exporter": "python",
   "pygments_lexer": "ipython2",
   "version": "2.7.6"
  }
 },
 "nbformat": 4,
 "nbformat_minor": 5
}
